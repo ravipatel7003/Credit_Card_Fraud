{
 "cells": [
  {
   "cell_type": "markdown",
   "metadata": {
    "id": "K3whMM-01mwH"
   },
   "source": [
    "<center><h1> Credit Card Fraud Detetion Model </h1>\n",
    "<h4>By: Ravikumar Patel </h4></center>\n"
   ]
  },
  {
   "cell_type": "markdown",
   "metadata": {
    "id": "ks59E4-92Emz"
   },
   "source": [
    "Credit card fraud is one of the biggest challenges for the financial industry. With advancements in technologies like tap-and-pay and online shopping, it became more accessible for people to use their credit cards on the fly. With this ease of use, the threat of having fraud transactions also on the rise.\n",
    "\n",
    "According to the official website of the Government of Canada, credit card fraud is when someone steals your credit card or financial information and uses it without your permission for buying at the store, online or over the phone or taking cash out using ATM. \n",
    "\n",
    "If a financial institute or business fails to protect their customers from this kind of issue, people may stop doing business with them, and soon enough, they may run out of business. So, a business needs to keep their customer protected, and one of the ways to do this is by checking every transaction for the possibility of fraud. Manually checking it is next to impossible as many customers perform the transactions at the same time. But as always, Machine Learning is here to save the day. \n",
    "\n",
    "Following are the steps to develop a credit card fraud detection model\n",
    "\n",
    "1.   Data Analysis\n",
    "2.   Data Preprocessing\n",
    "3.   Feature Selection\n",
    "4.   Model Selection and Training\n",
    "5.   Model Evaluation\n",
    "\n",
    "**```Note: Since the data is highly imbalanced, the Synthetic Minority Over-sampling TEchnique (SMOTE) from imbalanced-learn was used only on training data to model the real-world closely. The models performed very well (over 95.00% AUC score) during the training. However, they did not perform well on the data without over-sampled. This experiment has been removed from the file for cleanliness. ```**"
   ]
  },
  {
   "cell_type": "markdown",
   "metadata": {
    "id": "R_JQSPLuryFB"
   },
   "source": [
    "## Data Analysis"
   ]
  },
  {
   "cell_type": "code",
   "execution_count": 1,
   "metadata": {
    "colab": {
     "base_uri": "https://localhost:8080/",
     "height": 232
    },
    "id": "_M92tIzPNPlL",
    "outputId": "21d316cc-de99-4397-f34d-1256ef6f4a11"
   },
   "outputs": [
    {
     "data": {
      "text/html": [
       "<div>\n",
       "<style scoped>\n",
       "    .dataframe tbody tr th:only-of-type {\n",
       "        vertical-align: middle;\n",
       "    }\n",
       "\n",
       "    .dataframe tbody tr th {\n",
       "        vertical-align: top;\n",
       "    }\n",
       "\n",
       "    .dataframe thead th {\n",
       "        text-align: right;\n",
       "    }\n",
       "</style>\n",
       "<table border=\"1\" class=\"dataframe\">\n",
       "  <thead>\n",
       "    <tr style=\"text-align: right;\">\n",
       "      <th></th>\n",
       "      <th>Time</th>\n",
       "      <th>V1</th>\n",
       "      <th>V2</th>\n",
       "      <th>V3</th>\n",
       "      <th>V4</th>\n",
       "      <th>V5</th>\n",
       "      <th>V6</th>\n",
       "      <th>V7</th>\n",
       "      <th>V8</th>\n",
       "      <th>V9</th>\n",
       "      <th>...</th>\n",
       "      <th>V21</th>\n",
       "      <th>V22</th>\n",
       "      <th>V23</th>\n",
       "      <th>V24</th>\n",
       "      <th>V25</th>\n",
       "      <th>V26</th>\n",
       "      <th>V27</th>\n",
       "      <th>V28</th>\n",
       "      <th>Amount</th>\n",
       "      <th>Class</th>\n",
       "    </tr>\n",
       "  </thead>\n",
       "  <tbody>\n",
       "    <tr>\n",
       "      <th>0</th>\n",
       "      <td>0.0</td>\n",
       "      <td>-1.359807</td>\n",
       "      <td>-0.072781</td>\n",
       "      <td>2.536347</td>\n",
       "      <td>1.378155</td>\n",
       "      <td>-0.338321</td>\n",
       "      <td>0.462388</td>\n",
       "      <td>0.239599</td>\n",
       "      <td>0.098698</td>\n",
       "      <td>0.363787</td>\n",
       "      <td>...</td>\n",
       "      <td>-0.018307</td>\n",
       "      <td>0.277838</td>\n",
       "      <td>-0.110474</td>\n",
       "      <td>0.066928</td>\n",
       "      <td>0.128539</td>\n",
       "      <td>-0.189115</td>\n",
       "      <td>0.133558</td>\n",
       "      <td>-0.021053</td>\n",
       "      <td>149.62</td>\n",
       "      <td>0</td>\n",
       "    </tr>\n",
       "    <tr>\n",
       "      <th>1</th>\n",
       "      <td>0.0</td>\n",
       "      <td>1.191857</td>\n",
       "      <td>0.266151</td>\n",
       "      <td>0.166480</td>\n",
       "      <td>0.448154</td>\n",
       "      <td>0.060018</td>\n",
       "      <td>-0.082361</td>\n",
       "      <td>-0.078803</td>\n",
       "      <td>0.085102</td>\n",
       "      <td>-0.255425</td>\n",
       "      <td>...</td>\n",
       "      <td>-0.225775</td>\n",
       "      <td>-0.638672</td>\n",
       "      <td>0.101288</td>\n",
       "      <td>-0.339846</td>\n",
       "      <td>0.167170</td>\n",
       "      <td>0.125895</td>\n",
       "      <td>-0.008983</td>\n",
       "      <td>0.014724</td>\n",
       "      <td>2.69</td>\n",
       "      <td>0</td>\n",
       "    </tr>\n",
       "    <tr>\n",
       "      <th>2</th>\n",
       "      <td>1.0</td>\n",
       "      <td>-1.358354</td>\n",
       "      <td>-1.340163</td>\n",
       "      <td>1.773209</td>\n",
       "      <td>0.379780</td>\n",
       "      <td>-0.503198</td>\n",
       "      <td>1.800499</td>\n",
       "      <td>0.791461</td>\n",
       "      <td>0.247676</td>\n",
       "      <td>-1.514654</td>\n",
       "      <td>...</td>\n",
       "      <td>0.247998</td>\n",
       "      <td>0.771679</td>\n",
       "      <td>0.909412</td>\n",
       "      <td>-0.689281</td>\n",
       "      <td>-0.327642</td>\n",
       "      <td>-0.139097</td>\n",
       "      <td>-0.055353</td>\n",
       "      <td>-0.059752</td>\n",
       "      <td>378.66</td>\n",
       "      <td>0</td>\n",
       "    </tr>\n",
       "    <tr>\n",
       "      <th>3</th>\n",
       "      <td>1.0</td>\n",
       "      <td>-0.966272</td>\n",
       "      <td>-0.185226</td>\n",
       "      <td>1.792993</td>\n",
       "      <td>-0.863291</td>\n",
       "      <td>-0.010309</td>\n",
       "      <td>1.247203</td>\n",
       "      <td>0.237609</td>\n",
       "      <td>0.377436</td>\n",
       "      <td>-1.387024</td>\n",
       "      <td>...</td>\n",
       "      <td>-0.108300</td>\n",
       "      <td>0.005274</td>\n",
       "      <td>-0.190321</td>\n",
       "      <td>-1.175575</td>\n",
       "      <td>0.647376</td>\n",
       "      <td>-0.221929</td>\n",
       "      <td>0.062723</td>\n",
       "      <td>0.061458</td>\n",
       "      <td>123.50</td>\n",
       "      <td>0</td>\n",
       "    </tr>\n",
       "    <tr>\n",
       "      <th>4</th>\n",
       "      <td>2.0</td>\n",
       "      <td>-1.158233</td>\n",
       "      <td>0.877737</td>\n",
       "      <td>1.548718</td>\n",
       "      <td>0.403034</td>\n",
       "      <td>-0.407193</td>\n",
       "      <td>0.095921</td>\n",
       "      <td>0.592941</td>\n",
       "      <td>-0.270533</td>\n",
       "      <td>0.817739</td>\n",
       "      <td>...</td>\n",
       "      <td>-0.009431</td>\n",
       "      <td>0.798278</td>\n",
       "      <td>-0.137458</td>\n",
       "      <td>0.141267</td>\n",
       "      <td>-0.206010</td>\n",
       "      <td>0.502292</td>\n",
       "      <td>0.219422</td>\n",
       "      <td>0.215153</td>\n",
       "      <td>69.99</td>\n",
       "      <td>0</td>\n",
       "    </tr>\n",
       "  </tbody>\n",
       "</table>\n",
       "<p>5 rows × 31 columns</p>\n",
       "</div>"
      ],
      "text/plain": [
       "   Time        V1        V2        V3        V4        V5        V6        V7  \\\n",
       "0   0.0 -1.359807 -0.072781  2.536347  1.378155 -0.338321  0.462388  0.239599   \n",
       "1   0.0  1.191857  0.266151  0.166480  0.448154  0.060018 -0.082361 -0.078803   \n",
       "2   1.0 -1.358354 -1.340163  1.773209  0.379780 -0.503198  1.800499  0.791461   \n",
       "3   1.0 -0.966272 -0.185226  1.792993 -0.863291 -0.010309  1.247203  0.237609   \n",
       "4   2.0 -1.158233  0.877737  1.548718  0.403034 -0.407193  0.095921  0.592941   \n",
       "\n",
       "         V8        V9  ...       V21       V22       V23       V24       V25  \\\n",
       "0  0.098698  0.363787  ... -0.018307  0.277838 -0.110474  0.066928  0.128539   \n",
       "1  0.085102 -0.255425  ... -0.225775 -0.638672  0.101288 -0.339846  0.167170   \n",
       "2  0.247676 -1.514654  ...  0.247998  0.771679  0.909412 -0.689281 -0.327642   \n",
       "3  0.377436 -1.387024  ... -0.108300  0.005274 -0.190321 -1.175575  0.647376   \n",
       "4 -0.270533  0.817739  ... -0.009431  0.798278 -0.137458  0.141267 -0.206010   \n",
       "\n",
       "        V26       V27       V28  Amount  Class  \n",
       "0 -0.189115  0.133558 -0.021053  149.62      0  \n",
       "1  0.125895 -0.008983  0.014724    2.69      0  \n",
       "2 -0.139097 -0.055353 -0.059752  378.66      0  \n",
       "3 -0.221929  0.062723  0.061458  123.50      0  \n",
       "4  0.502292  0.219422  0.215153   69.99      0  \n",
       "\n",
       "[5 rows x 31 columns]"
      ]
     },
     "metadata": {},
     "output_type": "display_data"
    }
   ],
   "source": [
    "# basic library import\n",
    "import pandas as pd\n",
    "import numpy as np\n",
    "import matplotlib.pyplot as plt\n",
    "\n",
    "# to split the data into random smaller sets\n",
    "from sklearn.model_selection import train_test_split\n",
    "\n",
    "# to preprocess the features\n",
    "from sklearn.preprocessing import StandardScaler\n",
    "from sklearn.preprocessing import MinMaxScaler\n",
    "from scipy.stats import boxcox\n",
    "\n",
    "# models to solve the problems and feature selection\n",
    "from sklearn.feature_selection import RFECV\n",
    "from sklearn.tree import DecisionTreeClassifier\n",
    "from sklearn.ensemble import GradientBoostingClassifier\n",
    "from sklearn.ensemble import RandomForestClassifier\n",
    "\n",
    "# to plot/calculate the evaluations of models\n",
    "from sklearn.metrics import confusion_matrix\n",
    "from sklearn.metrics import plot_confusion_matrix\n",
    "from sklearn.metrics import classification_report\n",
    "from sklearn.metrics import precision_recall_curve\n",
    "from sklearn.metrics import auc\n",
    "\n",
    "with open(\"creditcard.csv\", 'r') as file1:\n",
    "  df = pd.read_csv(file1)\n",
    "\n",
    "display(df.head())\n",
    "\n",
    "X_train, X_test = train_test_split(df, test_size = 0.2, random_state=5)"
   ]
  },
  {
   "cell_type": "code",
   "execution_count": 2,
   "metadata": {
    "colab": {
     "base_uri": "https://localhost:8080/"
    },
    "id": "5Dd8fCap0g6Y",
    "outputId": "f333409e-16c9-4d96-84e2-e6e5c97f79a2"
   },
   "outputs": [
    {
     "data": {
      "text/plain": [
       "0    284315\n",
       "1       492\n",
       "Name: Class, dtype: int64"
      ]
     },
     "execution_count": 2,
     "metadata": {},
     "output_type": "execute_result"
    }
   ],
   "source": [
    "# Number of normal and fraud transctions in the whole dataset\n",
    "df['Class'].value_counts()"
   ]
  },
  {
   "cell_type": "markdown",
   "metadata": {
    "id": "pHrRJNfbythV"
   },
   "source": [
    "The data here is from [Kaggle](https://www.kaggle.com/mlg-ulb/creditcardfraud). The data contains the transactions that occurred in two days by European cardholders in September 2013. For security and confidentiality reasons, original features are hidden, and PCA transformation is used to convert those features into V1 to V28 features. There are only two features which are in their original form, Time and Amount. Time represents the number of seconds passed between the transaction and the first transaction in the data, and the amount represents the value of the transaction.\n",
    "\n",
    "As the dataset is highly imbalanced, there are 284,315 normal transactions and only 492 fraud transactions. Due to this, the area under the precision-recall curve is used as an evaluation technique for the model.\n"
   ]
  },
  {
   "cell_type": "code",
   "execution_count": 9,
   "metadata": {
    "colab": {
     "base_uri": "https://localhost:8080/",
     "height": 965
    },
    "id": "5nd3s0YoUtFO",
    "outputId": "e8753e05-c93e-440c-977a-8f8acc5aef1f"
   },
   "outputs": [
    {
     "data": {
      "text/html": [
       "<div>\n",
       "<style scoped>\n",
       "    .dataframe tbody tr th:only-of-type {\n",
       "        vertical-align: middle;\n",
       "    }\n",
       "\n",
       "    .dataframe tbody tr th {\n",
       "        vertical-align: top;\n",
       "    }\n",
       "\n",
       "    .dataframe thead th {\n",
       "        text-align: right;\n",
       "    }\n",
       "</style>\n",
       "<table border=\"1\" class=\"dataframe\">\n",
       "  <thead>\n",
       "    <tr style=\"text-align: right;\">\n",
       "      <th></th>\n",
       "      <th>Count</th>\n",
       "      <th>Miss %</th>\n",
       "      <th>Card.</th>\n",
       "      <th>Min</th>\n",
       "      <th>1st Qrt.</th>\n",
       "      <th>Mean</th>\n",
       "      <th>Median</th>\n",
       "      <th>3rd Qrt.</th>\n",
       "      <th>Max</th>\n",
       "      <th>Std. Dev.</th>\n",
       "    </tr>\n",
       "  </thead>\n",
       "  <tbody>\n",
       "    <tr>\n",
       "      <th>Time</th>\n",
       "      <td>227845</td>\n",
       "      <td>0.0</td>\n",
       "      <td>113985</td>\n",
       "      <td>0.000000</td>\n",
       "      <td>54203.000000</td>\n",
       "      <td>94779.437697</td>\n",
       "      <td>84676.000000</td>\n",
       "      <td>139271.000000</td>\n",
       "      <td>172792.000000</td>\n",
       "      <td>47485.850888</td>\n",
       "    </tr>\n",
       "    <tr>\n",
       "      <th>V1</th>\n",
       "      <td>227845</td>\n",
       "      <td>0.0</td>\n",
       "      <td>221406</td>\n",
       "      <td>-46.855047</td>\n",
       "      <td>-0.921021</td>\n",
       "      <td>0.000092</td>\n",
       "      <td>0.019948</td>\n",
       "      <td>1.315776</td>\n",
       "      <td>2.454930</td>\n",
       "      <td>1.954981</td>\n",
       "    </tr>\n",
       "    <tr>\n",
       "      <th>V2</th>\n",
       "      <td>227845</td>\n",
       "      <td>0.0</td>\n",
       "      <td>221406</td>\n",
       "      <td>-63.344698</td>\n",
       "      <td>-0.599405</td>\n",
       "      <td>-0.000897</td>\n",
       "      <td>0.064203</td>\n",
       "      <td>0.802627</td>\n",
       "      <td>22.057729</td>\n",
       "      <td>1.651702</td>\n",
       "    </tr>\n",
       "    <tr>\n",
       "      <th>V3</th>\n",
       "      <td>227845</td>\n",
       "      <td>0.0</td>\n",
       "      <td>221406</td>\n",
       "      <td>-48.325589</td>\n",
       "      <td>-0.890429</td>\n",
       "      <td>-0.000796</td>\n",
       "      <td>0.179494</td>\n",
       "      <td>1.026862</td>\n",
       "      <td>9.382558</td>\n",
       "      <td>1.515422</td>\n",
       "    </tr>\n",
       "    <tr>\n",
       "      <th>V4</th>\n",
       "      <td>227845</td>\n",
       "      <td>0.0</td>\n",
       "      <td>221406</td>\n",
       "      <td>-5.683171</td>\n",
       "      <td>-0.846925</td>\n",
       "      <td>0.001805</td>\n",
       "      <td>-0.017958</td>\n",
       "      <td>0.746727</td>\n",
       "      <td>16.875344</td>\n",
       "      <td>1.415401</td>\n",
       "    </tr>\n",
       "    <tr>\n",
       "      <th>V5</th>\n",
       "      <td>227845</td>\n",
       "      <td>0.0</td>\n",
       "      <td>221406</td>\n",
       "      <td>-113.743307</td>\n",
       "      <td>-0.691591</td>\n",
       "      <td>-0.000405</td>\n",
       "      <td>-0.054737</td>\n",
       "      <td>0.611173</td>\n",
       "      <td>34.099309</td>\n",
       "      <td>1.381990</td>\n",
       "    </tr>\n",
       "    <tr>\n",
       "      <th>V6</th>\n",
       "      <td>227845</td>\n",
       "      <td>0.0</td>\n",
       "      <td>221406</td>\n",
       "      <td>-23.496714</td>\n",
       "      <td>-0.768081</td>\n",
       "      <td>-0.000477</td>\n",
       "      <td>-0.273124</td>\n",
       "      <td>0.399057</td>\n",
       "      <td>73.301626</td>\n",
       "      <td>1.332391</td>\n",
       "    </tr>\n",
       "    <tr>\n",
       "      <th>V7</th>\n",
       "      <td>227845</td>\n",
       "      <td>0.0</td>\n",
       "      <td>221406</td>\n",
       "      <td>-43.557242</td>\n",
       "      <td>-0.554991</td>\n",
       "      <td>-0.000108</td>\n",
       "      <td>0.039765</td>\n",
       "      <td>0.569977</td>\n",
       "      <td>120.589494</td>\n",
       "      <td>1.240052</td>\n",
       "    </tr>\n",
       "    <tr>\n",
       "      <th>V8</th>\n",
       "      <td>227845</td>\n",
       "      <td>0.0</td>\n",
       "      <td>221406</td>\n",
       "      <td>-73.216718</td>\n",
       "      <td>-0.208537</td>\n",
       "      <td>-0.001457</td>\n",
       "      <td>0.022263</td>\n",
       "      <td>0.326367</td>\n",
       "      <td>20.007208</td>\n",
       "      <td>1.196880</td>\n",
       "    </tr>\n",
       "    <tr>\n",
       "      <th>V9</th>\n",
       "      <td>227845</td>\n",
       "      <td>0.0</td>\n",
       "      <td>221406</td>\n",
       "      <td>-13.320155</td>\n",
       "      <td>-0.641844</td>\n",
       "      <td>0.002917</td>\n",
       "      <td>-0.049520</td>\n",
       "      <td>0.601508</td>\n",
       "      <td>15.594995</td>\n",
       "      <td>1.098430</td>\n",
       "    </tr>\n",
       "    <tr>\n",
       "      <th>V10</th>\n",
       "      <td>227845</td>\n",
       "      <td>0.0</td>\n",
       "      <td>221406</td>\n",
       "      <td>-24.588262</td>\n",
       "      <td>-0.535392</td>\n",
       "      <td>0.000574</td>\n",
       "      <td>-0.092004</td>\n",
       "      <td>0.454408</td>\n",
       "      <td>23.745136</td>\n",
       "      <td>1.088711</td>\n",
       "    </tr>\n",
       "    <tr>\n",
       "      <th>V11</th>\n",
       "      <td>227845</td>\n",
       "      <td>0.0</td>\n",
       "      <td>221406</td>\n",
       "      <td>-4.797473</td>\n",
       "      <td>-0.761846</td>\n",
       "      <td>0.001105</td>\n",
       "      <td>-0.032062</td>\n",
       "      <td>0.740518</td>\n",
       "      <td>12.018913</td>\n",
       "      <td>1.022148</td>\n",
       "    </tr>\n",
       "    <tr>\n",
       "      <th>V12</th>\n",
       "      <td>227845</td>\n",
       "      <td>0.0</td>\n",
       "      <td>221406</td>\n",
       "      <td>-18.683715</td>\n",
       "      <td>-0.405269</td>\n",
       "      <td>-0.000467</td>\n",
       "      <td>0.140444</td>\n",
       "      <td>0.618276</td>\n",
       "      <td>7.848392</td>\n",
       "      <td>1.000107</td>\n",
       "    </tr>\n",
       "    <tr>\n",
       "      <th>V13</th>\n",
       "      <td>227845</td>\n",
       "      <td>0.0</td>\n",
       "      <td>221406</td>\n",
       "      <td>-5.791881</td>\n",
       "      <td>-0.649491</td>\n",
       "      <td>-0.000771</td>\n",
       "      <td>-0.014752</td>\n",
       "      <td>0.660420</td>\n",
       "      <td>7.126883</td>\n",
       "      <td>0.996049</td>\n",
       "    </tr>\n",
       "    <tr>\n",
       "      <th>V14</th>\n",
       "      <td>227845</td>\n",
       "      <td>0.0</td>\n",
       "      <td>221406</td>\n",
       "      <td>-19.214325</td>\n",
       "      <td>-0.424798</td>\n",
       "      <td>0.001060</td>\n",
       "      <td>0.051231</td>\n",
       "      <td>0.493740</td>\n",
       "      <td>10.526766</td>\n",
       "      <td>0.960683</td>\n",
       "    </tr>\n",
       "    <tr>\n",
       "      <th>V15</th>\n",
       "      <td>227845</td>\n",
       "      <td>0.0</td>\n",
       "      <td>221406</td>\n",
       "      <td>-4.498945</td>\n",
       "      <td>-0.583588</td>\n",
       "      <td>-0.000959</td>\n",
       "      <td>0.046867</td>\n",
       "      <td>0.647928</td>\n",
       "      <td>8.877742</td>\n",
       "      <td>0.914985</td>\n",
       "    </tr>\n",
       "    <tr>\n",
       "      <th>V16</th>\n",
       "      <td>227845</td>\n",
       "      <td>0.0</td>\n",
       "      <td>221406</td>\n",
       "      <td>-13.563273</td>\n",
       "      <td>-0.469022</td>\n",
       "      <td>-0.000094</td>\n",
       "      <td>0.065680</td>\n",
       "      <td>0.522930</td>\n",
       "      <td>17.315112</td>\n",
       "      <td>0.876344</td>\n",
       "    </tr>\n",
       "    <tr>\n",
       "      <th>V17</th>\n",
       "      <td>227845</td>\n",
       "      <td>0.0</td>\n",
       "      <td>221406</td>\n",
       "      <td>-23.815636</td>\n",
       "      <td>-0.484066</td>\n",
       "      <td>0.000233</td>\n",
       "      <td>-0.065678</td>\n",
       "      <td>0.400918</td>\n",
       "      <td>9.253526</td>\n",
       "      <td>0.846470</td>\n",
       "    </tr>\n",
       "    <tr>\n",
       "      <th>V18</th>\n",
       "      <td>227845</td>\n",
       "      <td>0.0</td>\n",
       "      <td>221406</td>\n",
       "      <td>-9.498746</td>\n",
       "      <td>-0.497660</td>\n",
       "      <td>0.001421</td>\n",
       "      <td>-0.002384</td>\n",
       "      <td>0.502470</td>\n",
       "      <td>5.041069</td>\n",
       "      <td>0.837872</td>\n",
       "    </tr>\n",
       "    <tr>\n",
       "      <th>V19</th>\n",
       "      <td>227845</td>\n",
       "      <td>0.0</td>\n",
       "      <td>221406</td>\n",
       "      <td>-7.213527</td>\n",
       "      <td>-0.457099</td>\n",
       "      <td>-0.000043</td>\n",
       "      <td>0.003902</td>\n",
       "      <td>0.460011</td>\n",
       "      <td>5.591971</td>\n",
       "      <td>0.814524</td>\n",
       "    </tr>\n",
       "    <tr>\n",
       "      <th>V20</th>\n",
       "      <td>227845</td>\n",
       "      <td>0.0</td>\n",
       "      <td>221406</td>\n",
       "      <td>-54.497720</td>\n",
       "      <td>-0.212003</td>\n",
       "      <td>0.000899</td>\n",
       "      <td>-0.062618</td>\n",
       "      <td>0.133179</td>\n",
       "      <td>39.420904</td>\n",
       "      <td>0.777251</td>\n",
       "    </tr>\n",
       "    <tr>\n",
       "      <th>V21</th>\n",
       "      <td>227845</td>\n",
       "      <td>0.0</td>\n",
       "      <td>221406</td>\n",
       "      <td>-34.830382</td>\n",
       "      <td>-0.228926</td>\n",
       "      <td>0.000547</td>\n",
       "      <td>-0.029440</td>\n",
       "      <td>0.186241</td>\n",
       "      <td>27.202839</td>\n",
       "      <td>0.735580</td>\n",
       "    </tr>\n",
       "    <tr>\n",
       "      <th>V22</th>\n",
       "      <td>227845</td>\n",
       "      <td>0.0</td>\n",
       "      <td>221406</td>\n",
       "      <td>-10.933144</td>\n",
       "      <td>-0.542981</td>\n",
       "      <td>-0.000852</td>\n",
       "      <td>0.006284</td>\n",
       "      <td>0.527348</td>\n",
       "      <td>10.503090</td>\n",
       "      <td>0.726255</td>\n",
       "    </tr>\n",
       "    <tr>\n",
       "      <th>V23</th>\n",
       "      <td>227845</td>\n",
       "      <td>0.0</td>\n",
       "      <td>221406</td>\n",
       "      <td>-44.807735</td>\n",
       "      <td>-0.162472</td>\n",
       "      <td>-0.000824</td>\n",
       "      <td>-0.011280</td>\n",
       "      <td>0.147522</td>\n",
       "      <td>22.528412</td>\n",
       "      <td>0.623294</td>\n",
       "    </tr>\n",
       "    <tr>\n",
       "      <th>V24</th>\n",
       "      <td>227845</td>\n",
       "      <td>0.0</td>\n",
       "      <td>221406</td>\n",
       "      <td>-2.836627</td>\n",
       "      <td>-0.356047</td>\n",
       "      <td>-0.001049</td>\n",
       "      <td>0.040402</td>\n",
       "      <td>0.438708</td>\n",
       "      <td>4.584549</td>\n",
       "      <td>0.605733</td>\n",
       "    </tr>\n",
       "    <tr>\n",
       "      <th>V25</th>\n",
       "      <td>227845</td>\n",
       "      <td>0.0</td>\n",
       "      <td>221406</td>\n",
       "      <td>-10.295397</td>\n",
       "      <td>-0.316953</td>\n",
       "      <td>0.000088</td>\n",
       "      <td>0.017098</td>\n",
       "      <td>0.351149</td>\n",
       "      <td>6.070850</td>\n",
       "      <td>0.520817</td>\n",
       "    </tr>\n",
       "    <tr>\n",
       "      <th>V26</th>\n",
       "      <td>227845</td>\n",
       "      <td>0.0</td>\n",
       "      <td>221406</td>\n",
       "      <td>-2.604551</td>\n",
       "      <td>-0.327593</td>\n",
       "      <td>-0.000265</td>\n",
       "      <td>-0.051608</td>\n",
       "      <td>0.240835</td>\n",
       "      <td>3.517346</td>\n",
       "      <td>0.482470</td>\n",
       "    </tr>\n",
       "    <tr>\n",
       "      <th>V27</th>\n",
       "      <td>227845</td>\n",
       "      <td>0.0</td>\n",
       "      <td>221406</td>\n",
       "      <td>-22.565679</td>\n",
       "      <td>-0.070970</td>\n",
       "      <td>-0.000177</td>\n",
       "      <td>0.001104</td>\n",
       "      <td>0.090721</td>\n",
       "      <td>31.612198</td>\n",
       "      <td>0.405181</td>\n",
       "    </tr>\n",
       "    <tr>\n",
       "      <th>V28</th>\n",
       "      <td>227845</td>\n",
       "      <td>0.0</td>\n",
       "      <td>221406</td>\n",
       "      <td>-15.430084</td>\n",
       "      <td>-0.053015</td>\n",
       "      <td>-0.000001</td>\n",
       "      <td>0.011215</td>\n",
       "      <td>0.078245</td>\n",
       "      <td>16.129609</td>\n",
       "      <td>0.320311</td>\n",
       "    </tr>\n",
       "    <tr>\n",
       "      <th>Amount</th>\n",
       "      <td>227845</td>\n",
       "      <td>0.0</td>\n",
       "      <td>29383</td>\n",
       "      <td>0.000000</td>\n",
       "      <td>5.490000</td>\n",
       "      <td>88.740123</td>\n",
       "      <td>22.000000</td>\n",
       "      <td>77.580000</td>\n",
       "      <td>25691.160000</td>\n",
       "      <td>254.865137</td>\n",
       "    </tr>\n",
       "    <tr>\n",
       "      <th>Class</th>\n",
       "      <td>227845</td>\n",
       "      <td>0.0</td>\n",
       "      <td>2</td>\n",
       "      <td>0.000000</td>\n",
       "      <td>0.000000</td>\n",
       "      <td>0.001703</td>\n",
       "      <td>0.000000</td>\n",
       "      <td>0.000000</td>\n",
       "      <td>1.000000</td>\n",
       "      <td>0.041231</td>\n",
       "    </tr>\n",
       "  </tbody>\n",
       "</table>\n",
       "</div>"
      ],
      "text/plain": [
       "         Count  Miss %   Card.         Min      1st Qrt.          Mean  \\\n",
       "Time    227845     0.0  113985    0.000000  54203.000000  94779.437697   \n",
       "V1      227845     0.0  221406  -46.855047     -0.921021      0.000092   \n",
       "V2      227845     0.0  221406  -63.344698     -0.599405     -0.000897   \n",
       "V3      227845     0.0  221406  -48.325589     -0.890429     -0.000796   \n",
       "V4      227845     0.0  221406   -5.683171     -0.846925      0.001805   \n",
       "V5      227845     0.0  221406 -113.743307     -0.691591     -0.000405   \n",
       "V6      227845     0.0  221406  -23.496714     -0.768081     -0.000477   \n",
       "V7      227845     0.0  221406  -43.557242     -0.554991     -0.000108   \n",
       "V8      227845     0.0  221406  -73.216718     -0.208537     -0.001457   \n",
       "V9      227845     0.0  221406  -13.320155     -0.641844      0.002917   \n",
       "V10     227845     0.0  221406  -24.588262     -0.535392      0.000574   \n",
       "V11     227845     0.0  221406   -4.797473     -0.761846      0.001105   \n",
       "V12     227845     0.0  221406  -18.683715     -0.405269     -0.000467   \n",
       "V13     227845     0.0  221406   -5.791881     -0.649491     -0.000771   \n",
       "V14     227845     0.0  221406  -19.214325     -0.424798      0.001060   \n",
       "V15     227845     0.0  221406   -4.498945     -0.583588     -0.000959   \n",
       "V16     227845     0.0  221406  -13.563273     -0.469022     -0.000094   \n",
       "V17     227845     0.0  221406  -23.815636     -0.484066      0.000233   \n",
       "V18     227845     0.0  221406   -9.498746     -0.497660      0.001421   \n",
       "V19     227845     0.0  221406   -7.213527     -0.457099     -0.000043   \n",
       "V20     227845     0.0  221406  -54.497720     -0.212003      0.000899   \n",
       "V21     227845     0.0  221406  -34.830382     -0.228926      0.000547   \n",
       "V22     227845     0.0  221406  -10.933144     -0.542981     -0.000852   \n",
       "V23     227845     0.0  221406  -44.807735     -0.162472     -0.000824   \n",
       "V24     227845     0.0  221406   -2.836627     -0.356047     -0.001049   \n",
       "V25     227845     0.0  221406  -10.295397     -0.316953      0.000088   \n",
       "V26     227845     0.0  221406   -2.604551     -0.327593     -0.000265   \n",
       "V27     227845     0.0  221406  -22.565679     -0.070970     -0.000177   \n",
       "V28     227845     0.0  221406  -15.430084     -0.053015     -0.000001   \n",
       "Amount  227845     0.0   29383    0.000000      5.490000     88.740123   \n",
       "Class   227845     0.0       2    0.000000      0.000000      0.001703   \n",
       "\n",
       "              Median       3rd Qrt.            Max     Std. Dev.  \n",
       "Time    84676.000000  139271.000000  172792.000000  47485.850888  \n",
       "V1          0.019948       1.315776       2.454930      1.954981  \n",
       "V2          0.064203       0.802627      22.057729      1.651702  \n",
       "V3          0.179494       1.026862       9.382558      1.515422  \n",
       "V4         -0.017958       0.746727      16.875344      1.415401  \n",
       "V5         -0.054737       0.611173      34.099309      1.381990  \n",
       "V6         -0.273124       0.399057      73.301626      1.332391  \n",
       "V7          0.039765       0.569977     120.589494      1.240052  \n",
       "V8          0.022263       0.326367      20.007208      1.196880  \n",
       "V9         -0.049520       0.601508      15.594995      1.098430  \n",
       "V10        -0.092004       0.454408      23.745136      1.088711  \n",
       "V11        -0.032062       0.740518      12.018913      1.022148  \n",
       "V12         0.140444       0.618276       7.848392      1.000107  \n",
       "V13        -0.014752       0.660420       7.126883      0.996049  \n",
       "V14         0.051231       0.493740      10.526766      0.960683  \n",
       "V15         0.046867       0.647928       8.877742      0.914985  \n",
       "V16         0.065680       0.522930      17.315112      0.876344  \n",
       "V17        -0.065678       0.400918       9.253526      0.846470  \n",
       "V18        -0.002384       0.502470       5.041069      0.837872  \n",
       "V19         0.003902       0.460011       5.591971      0.814524  \n",
       "V20        -0.062618       0.133179      39.420904      0.777251  \n",
       "V21        -0.029440       0.186241      27.202839      0.735580  \n",
       "V22         0.006284       0.527348      10.503090      0.726255  \n",
       "V23        -0.011280       0.147522      22.528412      0.623294  \n",
       "V24         0.040402       0.438708       4.584549      0.605733  \n",
       "V25         0.017098       0.351149       6.070850      0.520817  \n",
       "V26        -0.051608       0.240835       3.517346      0.482470  \n",
       "V27         0.001104       0.090721      31.612198      0.405181  \n",
       "V28         0.011215       0.078245      16.129609      0.320311  \n",
       "Amount     22.000000      77.580000   25691.160000    254.865137  \n",
       "Class       0.000000       0.000000       1.000000      0.041231  "
      ]
     },
     "metadata": {},
     "output_type": "display_data"
    }
   ],
   "source": [
    "def buildContinuousFeaturesReport(data_df, features):\n",
    "    \"\"\"\n",
    "    Build and display report for continuous features for given dataframe\n",
    "    :param data_df: a DataFrame object containing data\n",
    "    :param features: a list of features name to build report\n",
    "    :return none\n",
    "    \"\"\"\n",
    "\n",
    "    conHead = ['Count', 'Miss %', 'Card.', 'Min', '1st Qrt.', 'Mean', \n",
    "               'Median', '3rd Qrt.', 'Max', 'Std. Dev.']\n",
    "\n",
    "    conOut_df = pd.DataFrame(index=features, columns=conHead)\n",
    "    columns_df = data_df[features]\n",
    "\n",
    "    #COUNT\n",
    "    conOut_df[conHead[0]] = len(columns_df)\n",
    "\n",
    "    #MISS % \n",
    "    conOut_df[conHead[1]] = columns_df.isna().sum() / len(columns_df) * 100\n",
    "\n",
    "    #CARDINALITY\n",
    "    conOut_df[conHead[2]] = columns_df.nunique()\n",
    "\n",
    "    #MINIMUM\n",
    "    conOut_df[conHead[3]] = columns_df.min()\n",
    "\n",
    "    #1ST QUARTILE\n",
    "    conOut_df[conHead[4]] = columns_df.quantile(0.25)\n",
    "\n",
    "    #MEAN\n",
    "    conOut_df[conHead[5]] = columns_df.mean()\n",
    "\n",
    "    #MEDIAN\n",
    "    conOut_df[conHead[6]] = columns_df.median()\n",
    "\n",
    "    #3rd QUARTILE\n",
    "    conOut_df[conHead[7]] = columns_df.quantile(0.75)\n",
    "\n",
    "    #MAX\n",
    "    conOut_df[conHead[8]] = columns_df.max()\n",
    "\n",
    "    #STANDARD DEVIATION\n",
    "    conOut_df[conHead[9]] = columns_df.std()\n",
    "\n",
    "    display(conOut_df)\n",
    " \n",
    "quantitativefeatures = X_train.select_dtypes('number').columns.tolist()\n",
    "buildContinuousFeaturesReport(X_train, quantitativefeatures)"
   ]
  },
  {
   "cell_type": "code",
   "execution_count": 10,
   "metadata": {
    "colab": {
     "base_uri": "https://localhost:8080/",
     "height": 1000
    },
    "id": "D5s3jMBIWA0N",
    "outputId": "22fe3cae-fa1a-4df2-c420-971edc0bf1f3"
   },
   "outputs": [
    {
     "name": "stdout",
     "output_type": "stream",
     "text": [
      "Feature: Time\n",
      "Span: 172792.0\n",
      "Min: 0.0\n",
      "Max: 172792.0\n"
     ]
    },
    {
     "data": {
      "image/png": "[encoded data removed]",
      "text/plain": [
       "<Figure size 432x288 with 1 Axes>"
      ]
     },
     "metadata": {
      "needs_background": "light"
     },
     "output_type": "display_data"
    },
    {
     "data": {
      "image/png": "[encoded data removed]",
      "text/plain": [
       "<Figure size 432x288 with 1 Axes>"
      ]
     },
     "metadata": {
      "needs_background": "light"
     },
     "output_type": "display_data"
    },
    {
     "data": {
      "image/png": "[encoded data removed]",
      "text/plain": [
       "<Figure size 432x288 with 1 Axes>"
      ]
     },
     "metadata": {
      "needs_background": "light"
     },
     "output_type": "display_data"
    },
    {
     "name": "stdout",
     "output_type": "stream",
     "text": [
      "Feature: V1\n",
      "Span: 49.309977191993\n",
      "Min: -46.85504720078179\n",
      "Max: 2.45492999121121\n"
     ]
    },
    {
     "data": {
      "image/png": "[encoded data removed]",
      "text/plain": [
       "<Figure size 432x288 with 1 Axes>"
      ]
     },
     "metadata": {
      "needs_background": "light"
     },
     "output_type": "display_data"
    },
    {
     "data": {
      "image/png": "[encoded data removed]",
      "text/plain": [
       "<Figure size 432x288 with 1 Axes>"
      ]
     },
     "metadata": {
      "needs_background": "light"
     },
     "output_type": "display_data"
    },
    {
     "data": {
      "image/png": "[encoded data removed]",
      "text/plain": [
       "<Figure size 432x288 with 1 Axes>"
      ]
     },
     "metadata": {
      "needs_background": "light"
     },
     "output_type": "display_data"
    }
   ],
   "source": [
    "def box_histogram(df, features):\n",
    "  \"\"\"\n",
    "  Display the boxplot and histrogram of given features from given dataframe\n",
    "  :param df: a DataFrame object containing data\n",
    "  :param feature: a list of features name to display plots\n",
    "  :return none\n",
    "  \"\"\"\n",
    "\n",
    "  for f in features:\n",
    "    # show some statistics\n",
    "    print(\"Feature: \" + f)\n",
    "    print(\"Span: \"+ str (df[f].max() - df[f].min()))\n",
    "    print(\"Min: \"+ str (df[f].min()))\n",
    "    print(\"Max: \"+ str (df[f].max()))\n",
    "\n",
    "    # show boxplot\n",
    "    df[f].plot.box()\n",
    "    plt.show()\n",
    "    \n",
    "    # show histogram for fraud transactions\n",
    "    df[df['Class']==1][f].plot.hist(bins=20, alpha=0.5, title='Fraud', color='r')\n",
    "    plt.show()\n",
    "\n",
    "    # show histogram for normal transactions\n",
    "    df[df['Class']==0][f].plot.hist(bins=20, alpha=0.2, title='Normal', color='b')\n",
    "    plt.ylim(0, 500)\n",
    "    plt.show()\n",
    "\n",
    "# plotting only first 2 features, as plotting every /\n",
    "# feature makes the file longer in length\n",
    "box_histogram(X_train, quantitativefeatures[:2])"
   ]
  },
  {
   "cell_type": "code",
   "execution_count": 11,
   "metadata": {
    "colab": {
     "base_uri": "https://localhost:8080/"
    },
    "id": "lTeH4MVaZIbx",
    "outputId": "4a479023-1a68-422f-c007-20c4fba7539b"
   },
   "outputs": [
    {
     "name": "stdout",
     "output_type": "stream",
     "text": [
      "Highly skewed features\n",
      "Left skewed\n",
      "V1:-3.187649951248416\n",
      "V2:-4.486109178296368\n",
      "V3:-2.209637055467817\n",
      "V5:-2.9504210487629683\n",
      "V8:-8.494230287975071\n",
      "V12:-2.309526709929887\n",
      "V14:-2.0327574427204302\n",
      "V16:-1.0921207837226168\n",
      "V17:-3.7065728791313983\n",
      "V20:-2.0780954534583116\n",
      "V23:-5.851445520386401\n",
      "\n",
      "Right skewed\n",
      "V6:1.9801128737985654\n",
      "V7:3.736237972299871\n",
      "V10:1.2754900634713988\n",
      "V21:3.7956379219641905\n",
      "V28:6.464993945402006\n",
      "Amount:18.155619513279305\n",
      "Class:24.171031832152753\n",
      "\n",
      "Moderately skewed features\n",
      "Left skewed\n",
      "V24:-0.5476560309532068\n",
      "V27:-0.7153080967289098\n",
      "\n",
      "Right skewed\n",
      "V4:0.6647028859002546\n",
      "V9:0.5709686568823837\n",
      "V26:0.5793096779768502\n",
      "\n",
      "Approximately symmetric skewed features\n",
      "Time:-0.034949235391838425\n",
      "V11:0.3713883868805592\n",
      "V13:0.06793543515850227\n",
      "V15:-0.3105313427522995\n",
      "V18:-0.2482785846014976\n",
      "V19:0.10305107793752862\n",
      "V22:-0.230317407122178\n",
      "V25:-0.4218894278383107\n"
     ]
    }
   ],
   "source": [
    "def check_skewness(df):\n",
    "  \"\"\"\n",
    "  Calculate, display and return skewness of features of given dataframe\n",
    "  :param df: a DataFrame object containing data\n",
    "  :return a dictionary separating features into high or moderately skewness, \n",
    "          left or right skewness OR approximately symmetric\n",
    "  \"\"\"\n",
    "\n",
    "  # create empty dictionary to store and return result\n",
    "  skewness_dic = {'high' : {'right':{}, 'left':{}}, 'mod' : {'right':{}, 'left':{}}, \n",
    "                  'approx' : {}}\n",
    "\n",
    "  # run for all the features inside dataframe\n",
    "  for f in df.columns:\n",
    "\n",
    "    # calcuate the skewness and store feature into appropriate dictionary\n",
    "    skew = df[f].skew()\n",
    "    if skew <= -1:\n",
    "      skewness_dic['high']['left'][f] = skew\n",
    "    elif skew <= -0.5:\n",
    "      skewness_dic['mod']['left'][f] = skew\n",
    "    elif skew <= 0.5:\n",
    "      skewness_dic['approx'][f] = skew\n",
    "    elif skew <= 1:\n",
    "      skewness_dic['mod']['right'][f] = skew\n",
    "    else:\n",
    "      skewness_dic['high']['right'][f] = skew\n",
    "    \n",
    "\n",
    "  # display the result of calculation\n",
    "  print(\"Highly skewed features\")\n",
    "  print(\"Left skewed\")\n",
    "  for k,v in skewness_dic['high']['left'].items():\n",
    "    print(k+\":\"+str(v))\n",
    "\n",
    "  print(\"\\nRight skewed\")\n",
    "  for k,v in skewness_dic['high']['right'].items():\n",
    "    print(k+\":\"+str(v))\n",
    "\n",
    "  print(\"\\nModerately skewed features\")\n",
    "  print(\"Left skewed\")\n",
    "  for k,v in skewness_dic['mod']['left'].items():\n",
    "    print(k+\":\"+str(v))\n",
    "\n",
    "  print(\"\\nRight skewed\")\n",
    "  for k,v in skewness_dic['mod']['right'].items():\n",
    "    print(k+\":\"+str(v))\n",
    "\n",
    "  print(\"\\nApproximately symmetric skewed features\")\n",
    "  for k,v in skewness_dic['approx'].items():\n",
    "    print(k+\":\"+str(v))\n",
    "\n",
    "  return skewness_dic\n",
    "\n",
    "# get the skewness information of training dataframe\n",
    "skewness_dic = check_skewness(X_train)"
   ]
  },
  {
   "cell_type": "markdown",
   "metadata": {
    "id": "Uhnzkag-sAnG"
   },
   "source": [
    "There are no missing values, and every feature that is quantitative/continuous can be seen from the quality report. So, the histograms with boxplots are used to find out the outliers and check the distributions.\n",
    "\n",
    "Plotted histogram and domain knowledge tell us that 'Time' here is not a relevant feature; thus, it will be dropped. Of course, there is a peak in our data at 30k to 35k time value. It might be a night when Europeans are sleeping, and their credit cards are being used without their consent. However, the data are from 2 days, and there is no second peak, so this assumption is not appropriate to make.\n",
    "\n",
    "Other features, V1 to V28, are derived features from original features using PCA techniques. There is no domain knowledge associated with them so that the statistical techniques will handle issues associated with them, namely skewness. Depending upon skewness and direction, different methods will be used to make it more normally distributed. Also, to convert values into positive float numbers without disturbing the distribution, a Min-Max transformation will be used on left-skewed features.\n"
   ]
  },
  {
   "cell_type": "markdown",
   "metadata": {
    "id": "jaEaXHOi5xdK"
   },
   "source": [
    "## Data Preprocessing"
   ]
  },
  {
   "cell_type": "markdown",
   "metadata": {
    "id": "CLua0-kiZKkO"
   },
   "source": [
    "<h4><center>Table 1 : Data Quality Plan</center></h4>\n",
    "\n",
    "| Feature | Data Quality Issue | Potential Handling Strategies|\n",
    "|---|---|---|\n",
    "|Time|Not revant info.| Drop the feature.|\n",
    "|V1, V2, V3, V5, V8, V12, V14, V16, V17, V20, V23| Highly left skewed, but has zeros and neg  | Min-Max normalization than Cube transformation |\n",
    "|V6, V7, V10, V21, V28| Highly right skewed, but has zeros and neg | Cube root tranformation |\n",
    "|V24, V27| Moderately left skewed, but has zeros and neg | Min-Max normalization than Square transformation |\n",
    "|V4, V9, V26| Moderately right skewed, but has zeros and neg  | Cube root transformation |\n",
    "|V11, V13, V15, V18, V19, V22, V25|Approximately symmetric but has outliers, zeros and neg | Z-normalization. |\n",
    "|Amount|Highly right skewed with only positive numbers | Box cox trasformation. |\n"
   ]
  },
  {
   "cell_type": "markdown",
   "metadata": {
    "id": "5pRw5q6kmM2U"
   },
   "source": [
    "Here, we built a Data Quality Plan (DQP) to pre-process the data to handle data quality issues. For the highly skewed features towards the left, first, use the Min-Max normalization to fix the range of values and then use cube transformation to reduce the skewness. As mentioned earlier, Min-Max transformation helps with the problem of mapping negative and positive numbers to the same value. The Min-Max transformation for these features is specified with a small range as cube root would grow exponentially.\n",
    "\n",
    "The features with moderately left-skewed values are handled similar way, except cube transformation gets replaced by square and double the range for Min-Max normalization. The features with highly or moderately right skewness are transformed using cube-root transformation, as this technique has shown good results and can handle negatives and zeros.\n",
    "\n",
    "For the approximately symmetrical features, Z-normalization can normalize the values. As the 'Amount' contains only positive values so that box-cox transformation can be used. The 'Time' feature will just get dropped.\n"
   ]
  },
  {
   "cell_type": "code",
   "execution_count": 12,
   "metadata": {
    "id": "G9f2QgM51-aJ"
   },
   "outputs": [],
   "source": [
    "def preprocessing(df):\n",
    "  \"\"\"\n",
    "  Preprocess given dataframe according to handling techniques according to \n",
    "  table 1\n",
    "  :param df: a DataFrame object containing data\n",
    "  :return preprocessed dataframe\n",
    "  \"\"\"\n",
    "  # transform features using cube root\n",
    "  features = list(set(skewness_dic['high']['right'].keys()).union\n",
    "                  (skewness_dic['mod']['right'].keys()) \n",
    "                  - set(['Amount', 'Class']))\n",
    "  df[features] = np.cbrt(df[features])\n",
    "\n",
    "  # tranform features using minmax and then cube\n",
    "  features = list(skewness_dic['high']['left'].keys())\n",
    "  df[features] = MinMaxScaler((1,5)).fit_transform(df[features])\n",
    "  df[features] = np.power(df[features], 3)\n",
    "\n",
    "  # tranform features using minmax and then squared\n",
    "  features = list(skewness_dic['mod']['left'].keys())\n",
    "  df[features] = MinMaxScaler((1,10)).fit_transform(df[features])\n",
    "  df[features] = np.power(df[features], 2)\n",
    "\n",
    "  # transform features using Z-transformation\n",
    "  features = list(set(skewness_dic['approx'].keys()) - set(['Time']))\n",
    "  df[features] = StandardScaler().fit_transform(df[features])\n",
    "\n",
    "  # transform features using boxcox transformation\n",
    "  df.loc[:,'Amount'] =  df['Amount'] + 0.0000000000001\n",
    "  df['Amount'], _ = boxcox(df['Amount'])\n",
    "\n",
    "  # drop feature like time\n",
    "  df = df.drop(['Time'], axis=1)\n",
    "  \n",
    "  return df"
   ]
  },
  {
   "cell_type": "markdown",
   "metadata": {
    "id": "UDe5d3GRfDAy"
   },
   "source": [
    "## Feature selection"
   ]
  },
  {
   "cell_type": "code",
   "execution_count": 13,
   "metadata": {
    "id": "yuYLcyqljBSw"
   },
   "outputs": [],
   "source": [
    "# separate target variable from the training and test dataframes\n",
    "y_train = X_train['Class']\n",
    "y_test = X_test['Class']\n",
    "\n",
    "X_train = X_train.drop(['Class'], axis=1)\n",
    "X_test = X_test.drop(['Class'], axis=1)\n",
    "\n",
    "# preproce both dataframes\n",
    "X_train = preprocessing(X_train)\n",
    "X_test = preprocessing(X_test)\n",
    "\n",
    "# split the training dataset into training and validation sets\n",
    "X_training, X_vali, y_training, y_vali = train_test_split(X_train, y_train, test_size = 0.2, random_state=10)"
   ]
  },
  {
   "cell_type": "code",
   "execution_count": 14,
   "metadata": {
    "colab": {
     "base_uri": "https://localhost:8080/"
    },
    "id": "v7Vk7vsXo6bq",
    "outputId": "ec5280e1-5f59-46d6-e7c9-22cf97222daa"
   },
   "outputs": [
    {
     "name": "stdout",
     "output_type": "stream",
     "text": [
      "Optimal number of features : 11\n"
     ]
    }
   ],
   "source": [
    "def scorer(estimator, X, y):\n",
    "  \"\"\"\n",
    "  To calculates AUC for precision-recall curve for given estimator\n",
    "  works as a scoring function for RFECV\n",
    "  :param estimator: a DataFrame object containing data\n",
    "  :param X: a DataFrame object containing data\n",
    "  :param y: contains true label of given data\n",
    "  :return AUC score for precision-recall curve\n",
    "  \"\"\"\n",
    "\n",
    "  y_pred = estimator.predict(X)\n",
    "  \n",
    "  precision, recall, _ = precision_recall_curve(y_pred, y)\n",
    "\n",
    "  return auc(recall, precision)\n",
    "\n",
    "# create a base estimator for recursive feature elimination with \n",
    "# cross-validated selection\n",
    "treeClassifier = DecisionTreeClassifier(random_state = 2)\n",
    "\n",
    "selector = RFECV(estimator=treeClassifier, scoring=scorer, n_jobs=-1)\n",
    "\n",
    "selector.fit(X_training, y_training)\n",
    "\n",
    "print(\"Optimal number of features : \" + str(selector.n_features_))"
   ]
  },
  {
   "cell_type": "code",
   "execution_count": 15,
   "metadata": {
    "id": "BrU8dNrZ93s_"
   },
   "outputs": [],
   "source": [
    "selected_features = selector.support_\n",
    "\n",
    "# dropped unselected features\n",
    "X_train = X_train.loc[:, selected_features]\n",
    "X_training = X_training.loc[:, selected_features]\n",
    "X_vali = X_vali.loc[:, selected_features]\n",
    "X_test = X_test.loc[:, selected_features]"
   ]
  },
  {
   "cell_type": "markdown",
   "metadata": {
    "id": "uVraKANGypur"
   },
   "source": [
    "First, target variables are separated from predictive features, and then the training set is split into training and validation sets. The validation set will be used to decide which model to use to evaluate the performance.\n",
    "\n",
    "For the feature selection part, recursive feature elimination with cross-validation is used with the user-define function for scoring estimators. Since the number of features is less recursive, feature elimination works just fine, and a standard Decision Tree classifier is used to score the features.\n",
    "\n",
    "The user-define function for scoring estimators uses sklearn's method to calculate precision-recall curve and then find and return the AUC.\n"
   ]
  },
  {
   "cell_type": "markdown",
   "metadata": {
    "id": "O3U9iI-eEIiu"
   },
   "source": [
    "## Model Selection and Training"
   ]
  },
  {
   "cell_type": "code",
   "execution_count": 16,
   "metadata": {
    "colab": {
     "base_uri": "https://localhost:8080/",
     "height": 118
    },
    "id": "a4l634NQCBFy",
    "outputId": "f2d6d6fa-3da6-49f9-8e67-56e027355e4e"
   },
   "outputs": [
    {
     "name": "stdout",
     "output_type": "stream",
     "text": [
      "AUC for RFC: 0.87416\n"
     ]
    },
    {
     "data": {
      "text/plain": [
       "array([[45487,     4],\n",
       "       [   15,    63]], dtype=int64)"
      ]
     },
     "metadata": {},
     "output_type": "display_data"
    },
    {
     "name": "stdout",
     "output_type": "stream",
     "text": [
      "AUC for GBC: 0.85401\n"
     ]
    },
    {
     "data": {
      "text/plain": [
       "array([[45484,     7],\n",
       "       [   15,    63]], dtype=int64)"
      ]
     },
     "metadata": {},
     "output_type": "display_data"
    }
   ],
   "source": [
    "# build ensembled models to get train on training data\n",
    "gbc = GradientBoostingClassifier(loss='exponential', random_state=10, \n",
    "                                 n_iter_no_change=5)\n",
    "\n",
    "RFC = RandomForestClassifier(criterion='entropy', random_state=10, \n",
    "                             max_features='log2', n_estimators = 150, \n",
    "                             n_jobs=-1)\n",
    "\n",
    "# train the models\n",
    "RFC.fit(X_training, y_training)\n",
    "gbc.fit(X_training, y_training)\n",
    "\n",
    "# predict the values for validation set\n",
    "y_vali_rfc = RFC.predict(X_vali)\n",
    "y_vali_gbc = gbc.predict(X_vali)\n",
    "\n",
    "# calculate precision-recall curve\n",
    "rfc_precision, rfc_recall, _ = precision_recall_curve(y_vali, y_vali_rfc)\n",
    "gbc_precision, gbc_recall, _ = precision_recall_curve(y_vali, y_vali_gbc)\n",
    "\n",
    "# display the AUC for precision-recall curve\n",
    "print(\"AUC for RFC: {:.5f}\".format(auc(rfc_recall, rfc_precision)))\n",
    "display(confusion_matrix(y_vali, y_vali_rfc))\n",
    "\n",
    "print(\"AUC for GBC: {:.5f}\".format(auc(gbc_recall, gbc_precision)))\n",
    "display(confusion_matrix(y_vali, y_vali_gbc))"
   ]
  },
  {
   "cell_type": "markdown",
   "metadata": {
    "id": "dqJFAIfi5rww"
   },
   "source": [
    "Here, ensemble methods like Random Forest Classifier (RFC) and Gradient Boosting Classifier (GBC) were used. Multiple experiments were performed to tune the parameters and balance out the bias-variance trade-off with the help of a validation set. \n",
    "\n",
    "The experimental parameters for the RFC included n_estimators, criterion, max_depth, and max_features, and for the GBC included loss, n_estimators, n_iter_no_change, and learning_rate. The best performing models were selected, and clearly, RFC performed better than GBC. The RFC gave a little higher precision on fraud transactions than GBC, but both had the same number for true positive (correctly identified fraud transactions).\n"
   ]
  },
  {
   "cell_type": "markdown",
   "metadata": {
    "id": "k3G1MrH_EMhH"
   },
   "source": [
    "## Model Evaluation"
   ]
  },
  {
   "cell_type": "code",
   "execution_count": 17,
   "metadata": {
    "colab": {
     "base_uri": "https://localhost:8080/",
     "height": 447
    },
    "id": "PpjCn3CtE0VU",
    "outputId": "2ffe1b7b-cccc-4630-8440-56b5f3d79f7e"
   },
   "outputs": [
    {
     "name": "stdout",
     "output_type": "stream",
     "text": [
      "AUC for RFC: 0.80101\n",
      "\n",
      "Confusion Matrix for RFC\n"
     ]
    },
    {
     "data": {
      "image/png": "[encoded data removed]",
      "text/plain": [
       "<Figure size 432x288 with 2 Axes>"
      ]
     },
     "metadata": {
      "needs_background": "light"
     },
     "output_type": "display_data"
    },
    {
     "name": "stdout",
     "output_type": "stream",
     "text": [
      "\n",
      "Classification Report for RFC\n",
      "              precision    recall  f1-score   support\n",
      "\n",
      "      Normal       1.00      1.00      1.00     56858\n",
      "       Fraud       0.96      0.64      0.77       104\n",
      "\n",
      "    accuracy                           1.00     56962\n",
      "   macro avg       0.98      0.82      0.88     56962\n",
      "weighted avg       1.00      1.00      1.00     56962\n",
      "\n"
     ]
    }
   ],
   "source": [
    "RFC = RandomForestClassifier(criterion='entropy', random_state=10, \n",
    "                             max_features='log2', n_estimators = 150, \n",
    "                             n_jobs=-1)\n",
    "\n",
    "RFC.fit(X_train, y_train)\n",
    "\n",
    "y_test_pred = RFC.predict(X_test)\n",
    "\n",
    "rfc_precision, rfc_recall, _ = precision_recall_curve(y_test, y_test_pred)\n",
    "\n",
    "print(\"AUC for RFC: {:.5f}\".format(auc(rfc_recall, rfc_precision)))\n",
    "\n",
    "print(\"\\nConfusion Matrix for RFC\")\n",
    "plot_confusion_matrix(RFC, X_test, y_test, display_labels=['Normal', 'Fraud'])\n",
    "plt.show()\n",
    "\n",
    "print(\"\\nClassification Report for RFC\")\n",
    "print(classification_report(y_test, y_test_pred, target_names=['Normal', 'Fraud']))"
   ]
  },
  {
   "cell_type": "markdown",
   "metadata": {
    "id": "2c1ke8BU8kWn"
   },
   "source": [
    "Now, it's time to evaluate our model against the unseen data. As the work of the validation set is finished, the RFC model can be re-train on the whole training set before it gets evaluated against the test set. Of course, the model was re-initialized as well to remove previous information and start fresh. After re-training, the model was evaluated against the test set. The area under the precision-recall curve is **80.10%**, recall for fraud transactions is 64.42%, and precision for fraud transactions is 95.71%. \n",
    "\n",
    "The imbalanced dataset is highly affecting the performance. Of course, the AUC score is good but not as high as it should be. The True Positive number is one of the highest important values, and it represents how many transactions the model correctly identified as fraud. The model should provide this value as high as possible for the model to affect business effectively. The model indeed identified 67 out of 104 fraud transactions, which means that there is still a possibility for an improvement. \n",
    "\n",
    "One way to improve the performance is to try samples with more fraud transactions, i.e. increase training data size. The more the data model gets, the higher the performance it can provide. Another way is to use some more complex models like neural networks. Also, a good point to notice is that the precision for fraud transactions is good and is also as important as finding true fraud transactions.\n",
    "\n",
    "Next, this model can become a baseline model, and further experiments can be done on the dataset and models to increase the model's performance."
   ]
  }
 ],
 "metadata": {
  "colab": {
   "collapsed_sections": [],
   "name": "CC_fraud.ipynb",
   "provenance": []
  },
  "kernelspec": {
   "display_name": "Python 3",
   "language": "python",
   "name": "python3"
  },
  "language_info": {
   "codemirror_mode": {
    "name": "ipython",
    "version": 3
   },
   "file_extension": ".py",
   "mimetype": "text/x-python",
   "name": "python",
   "nbconvert_exporter": "python",
   "pygments_lexer": "ipython3",
   "version": "3.8.3"
  }
 },
 "nbformat": 4,
 "nbformat_minor": 1
}
